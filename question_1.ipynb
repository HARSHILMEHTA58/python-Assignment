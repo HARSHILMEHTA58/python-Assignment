{
  "metadata": {
    "kernelspec": {
      "name": "python",
      "display_name": "Python (Pyodide)",
      "language": "python"
    },
    "language_info": {
      "codemirror_mode": {
        "name": "python",
        "version": 3
      },
      "file_extension": ".py",
      "mimetype": "text/x-python",
      "name": "python",
      "nbconvert_exporter": "python",
      "pygments_lexer": "ipython3",
      "version": "3.8"
    }
  },
  "nbformat_minor": 4,
  "nbformat": 4,
  "cells": [
    {
      "cell_type": "markdown",
      "source": "Explain with an example each when to use a for loop and a while loop.",
      "metadata": {}
    },
    {
      "cell_type": "markdown",
      "source": "for loop = whenever we want to run specific statement in specific number of time or we know that\n           how many time we want to run iterations.\n\n\nwhile loop = whenever we don't know that how many number of time we want to run statement , but\n             we know that whenever specific condition occure then we need to stop or run.\n\nin short if we want to run loop bases on conditions then we will use while loop otherwise if we\nknow how many number of time we want to run then we can use for loop.",
      "metadata": {}
    },
    {
      "cell_type": "markdown",
      "source": "Example for FOR LOOP",
      "metadata": {}
    },
    {
      "cell_type": "markdown",
      "source": "printing 1 to 10\nhere we know we want to run statement 10 times",
      "metadata": {}
    },
    {
      "cell_type": "code",
      "source": "for i in range(0,10):\n    print(i)",
      "metadata": {
        "trusted": true
      },
      "outputs": [],
      "execution_count": null
    },
    {
      "cell_type": "markdown",
      "source": "Example for WHILE LOOP",
      "metadata": {}
    },
    {
      "cell_type": "markdown",
      "source": "printing when 'h' character will appear\nhere we don't know we want to run statement how many number of times so..",
      "metadata": {}
    },
    {
      "cell_type": "code",
      "source": "a = ['H','e','l','l','o']\nindex=0\nwhile(a[index]!='o'):\n    index=index+1;\n\nprint(\"index is \",index)",
      "metadata": {
        "trusted": true
      },
      "outputs": [],
      "execution_count": null
    }
  ]
}