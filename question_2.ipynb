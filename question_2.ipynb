{
  "metadata": {
    "kernelspec": {
      "name": "python",
      "display_name": "Python (Pyodide)",
      "language": "python"
    },
    "language_info": {
      "codemirror_mode": {
        "name": "python",
        "version": 3
      },
      "file_extension": ".py",
      "mimetype": "text/x-python",
      "name": "python",
      "nbconvert_exporter": "python",
      "pygments_lexer": "ipython3",
      "version": "3.8"
    }
  },
  "nbformat_minor": 4,
  "nbformat": 4,
  "cells": [
    {
      "cell_type": "markdown",
      "source": "Q2. Write a python program to print the sum and product of the first 10 natural numbers using for and while loop.\n\nUsing for loop",
      "metadata": {},
      "attachments": {}
    },
    {
      "cell_type": "code",
      "source": "summation=0\nproduct=1\nfor i in range(1,11):\n    print(i)\n    summation=summation+i\n    product=product*i",
      "metadata": {
        "trusted": true
      },
      "outputs": [
        {
          "name": "stdout",
          "text": "1\n2\n3\n4\n5\n6\n7\n8\n9\n10\n",
          "output_type": "stream"
        }
      ],
      "execution_count": 1
    },
    {
      "cell_type": "code",
      "source": "print(\"sum of first 10 natural number is \",summation)\nprint(\"product of first 10 natural number is \",product)",
      "metadata": {
        "trusted": true
      },
      "outputs": [
        {
          "name": "stdout",
          "text": "sum of first 10 natural number is  55\nproduct of first 10 natural number is  3628800\n",
          "output_type": "stream"
        }
      ],
      "execution_count": 2
    },
    {
      "cell_type": "markdown",
      "source": "Using while loop",
      "metadata": {}
    },
    {
      "cell_type": "code",
      "source": "summation=0\nproduct=1\ni=1\nwhile(i<=10):\n    print(i)\n    summation=summation+i\n    product=product*i\n    i+=1",
      "metadata": {
        "trusted": true
      },
      "outputs": [
        {
          "name": "stdout",
          "text": "1\n2\n3\n4\n5\n6\n7\n8\n9\n10\n",
          "output_type": "stream"
        }
      ],
      "execution_count": 3
    },
    {
      "cell_type": "code",
      "source": "print(\"sum of first 10 natural number is \",summation)\nprint(\"product of first 10 natural number is \",product)\n",
      "metadata": {
        "trusted": true
      },
      "outputs": [],
      "execution_count": null
    }
  ]
}