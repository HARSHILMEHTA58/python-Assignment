{
  "metadata": {
    "kernelspec": {
      "name": "python",
      "display_name": "Python (Pyodide)",
      "language": "python"
    },
    "language_info": {
      "codemirror_mode": {
        "name": "python",
        "version": 3
      },
      "file_extension": ".py",
      "mimetype": "text/x-python",
      "name": "python",
      "nbconvert_exporter": "python",
      "pygments_lexer": "ipython3",
      "version": "3.8"
    }
  },
  "nbformat_minor": 4,
  "nbformat": 4,
  "cells": [
    {
      "cell_type": "markdown",
      "source": "Q3. Create a python program to compute the electricity bill for a household.\n\nThe per-unit charges in rupees are as follows: For the first 100 units, the user will be charged Rs. 4.5 per\nunit, for the next 100 units, the user will be charged Rs. 6 per unit, and for the next 100 units, the user will\nbe charged Rs. 10 per unit, After 300 units and above the user will be charged Rs. 20 per unit.",
      "metadata": {}
    },
    {
      "cell_type": "markdown",
      "source": "You are required to take the units of electricity consumed in a month from the user as input.\nYour program must pass this test case: when the unit of electricity consumed by the user in a month is\n310, the total electricity bill should be 2250.",
      "metadata": {}
    },
    {
      "cell_type": "code",
      "source": "unit= 310\namount = 0\n\nif(unit<=100):\n    amount = unit*4.5\n    \nelif(unit<=200):\n        amount = 100*4.5 + ((unit-100)*6)\n        \nelif(unit<=100):\n        amount = 100*4.5 + 100*6 + ((unit-200)*10)\nelse:\n        amount = 100*4.5 + 100*6 + 100*10 + ((unit-300)*20)",
      "metadata": {
        "trusted": true
      },
      "outputs": [],
      "execution_count": null
    },
    {
      "cell_type": "code",
      "source": "print(unit)\nprint(amount)",
      "metadata": {
        "trusted": true
      },
      "outputs": [],
      "execution_count": null
    }
  ]
}