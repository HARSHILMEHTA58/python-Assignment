{
  "metadata": {
    "kernelspec": {
      "name": "python",
      "display_name": "Python (Pyodide)",
      "language": "python"
    },
    "language_info": {
      "codemirror_mode": {
        "name": "python",
        "version": 3
      },
      "file_extension": ".py",
      "mimetype": "text/x-python",
      "name": "python",
      "nbconvert_exporter": "python",
      "pygments_lexer": "ipython3",
      "version": "3.8"
    }
  },
  "nbformat_minor": 4,
  "nbformat": 4,
  "cells": [
    {
      "cell_type": "markdown",
      "source": "Q5. Write a program to filter count vowels in the below-given string.\nstring = \"I want to become a data scientist\"",
      "metadata": {}
    },
    {
      "cell_type": "code",
      "source": "s = \"i want to become a data scientist\"\n\nvowels = \"aeiou\"\n\ncount = 0\nfor i in s:\n    if i in vowels:\n        count = count+1\n\n\nprint(count)",
      "metadata": {
        "trusted": true
      },
      "outputs": [],
      "execution_count": null
    }
  ]
}