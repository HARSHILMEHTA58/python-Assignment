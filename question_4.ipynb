{
  "metadata": {
    "kernelspec": {
      "name": "python",
      "display_name": "Python (Pyodide)",
      "language": "python"
    },
    "language_info": {
      "name": ""
    }
  },
  "nbformat_minor": 4,
  "nbformat": 4,
  "cells": [
    {
      "cell_type": "markdown",
      "source": "Q4. Create a list of numbers from 1 to 100. Use for loop and while loop to calculate the cube of each\nnumber and if the cube of that number is divisible by 4 or 5 then append that number in a list and print\nthat list.\n",
      "metadata": {}
    },
    {
      "cell_type": "markdown",
      "source": "using for loop",
      "metadata": {}
    },
    {
      "cell_type": "code",
      "source": "l1=[]\n\nfor i in range(1,100):\n    print(i*i*i)\n    if((i*i*i)%4==0 or (i*i*i)%5==0):\n        l1.append(i*i*i)\n\nprint(l1)",
      "metadata": {
        "trusted": true
      },
      "outputs": [],
      "execution_count": null
    },
    {
      "cell_type": "markdown",
      "source": "Using while loop",
      "metadata": {}
    },
    {
      "cell_type": "code",
      "source": "l1 = []\ni = 1\nwhile(i<101):\n    print(i*i*i)\n    if((i*i*i)%4==0 or (i*i*i)%5==0):\n        l1.append(i*i*i)\n    i=i+1\n\nprint(l1)",
      "metadata": {
        "trusted": true
      },
      "outputs": [],
      "execution_count": null
    }
  ]
}